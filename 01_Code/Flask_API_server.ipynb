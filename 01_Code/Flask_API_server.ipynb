{
 "cells": [
  {
   "cell_type": "code",
   "execution_count": 1,
   "metadata": {},
   "outputs": [],
   "source": [
    "from flask import Flask,render_template\n",
    "import requests\n",
    "import pickle"
   ]
  },
  {
   "cell_type": "code",
   "execution_count": 2,
   "metadata": {},
   "outputs": [
    {
     "name": "stdout",
     "output_type": "stream",
     "text": [
      " * Serving Flask app \"__main__\" (lazy loading)\n",
      " * Environment: production\n",
      "   WARNING: This is a development server. Do not use it in a production deployment.\n",
      "   Use a production WSGI server instead.\n",
      " * Debug mode: off\n"
     ]
    },
    {
     "name": "stderr",
     "output_type": "stream",
     "text": [
      " * Running on http://127.0.0.1:5000/ (Press CTRL+C to quit)\n",
      "127.0.0.1 - - [20/Sep/2021 17:23:09] \"\u001b[37mGET / HTTP/1.1\u001b[0m\" 200 -\n",
      "127.0.0.1 - - [20/Sep/2021 17:23:23] \"\u001b[37mGET /predict/industry/C HTTP/1.1\u001b[0m\" 200 -\n",
      "127.0.0.1 - - [20/Sep/2021 17:23:26] \"\u001b[37mGET /predict/industry/C++ HTTP/1.1\u001b[0m\" 200 -\n",
      "127.0.0.1 - - [20/Sep/2021 17:23:36] \"\u001b[37mGET /predict/industry/C++%20teacher HTTP/1.1\u001b[0m\" 200 -\n"
     ]
    }
   ],
   "source": [
    "app = Flask(__name__)\n",
    "\n",
    "@app.route('/', methods=['GET'])\n",
    "def home():\n",
    "    return \"<h1>Job title Classification by industry</h1>\\\n",
    "    <h2>Multi-Text Classification Task</h2>\\\n",
    "    <h2>This is an early access website</h2>\\\n",
    "    <p>To get prediction for your job title please send Request to <b>http://127.0.0.1:5000/predict/industry/ Enter Your Job Title Here</b>\"\n",
    "\n",
    "@app.route('/predict/industry/<string:job_title>', methods=['GET'])\n",
    "def get_prediction(job_title):\n",
    "    model = pickle.load(open('linearsvcmodel.pkl', 'rb'))\n",
    "    pred_industry = model.predict([job_title])\n",
    "    return 'The Job Industry is '+pred_industry[0], 200\n",
    "    \n",
    "app.run()"
   ]
  },
  {
   "cell_type": "code",
   "execution_count": null,
   "metadata": {},
   "outputs": [],
   "source": []
  }
 ],
 "metadata": {
  "kernelspec": {
   "display_name": "Python 3",
   "language": "python",
   "name": "python3"
  },
  "language_info": {
   "codemirror_mode": {
    "name": "ipython",
    "version": 3
   },
   "file_extension": ".py",
   "mimetype": "text/x-python",
   "name": "python",
   "nbconvert_exporter": "python",
   "pygments_lexer": "ipython3",
   "version": "3.8.3"
  }
 },
 "nbformat": 4,
 "nbformat_minor": 4
}
